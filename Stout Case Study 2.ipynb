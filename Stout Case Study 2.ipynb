{
 "cells": [
  {
   "cell_type": "markdown",
   "id": "f9f1ef2c",
   "metadata": {},
   "source": [
    "# Case Study 2"
   ]
  },
  {
   "cell_type": "code",
   "execution_count": 2,
   "id": "a5e6e783",
   "metadata": {},
   "outputs": [],
   "source": [
    "import numpy as np\n",
    "import pandas as pd\n",
    "import matplotlib.pyplot as plt\n",
    "import seaborn as sn\n"
   ]
  },
  {
   "cell_type": "code",
   "execution_count": 3,
   "id": "09e0cd33",
   "metadata": {},
   "outputs": [],
   "source": [
    "df= pd.read_csv(\"casestudy.csv\")"
   ]
  },
  {
   "cell_type": "code",
   "execution_count": 4,
   "id": "92a0d4eb",
   "metadata": {},
   "outputs": [
    {
     "data": {
      "text/plain": [
       "(685927, 4)"
      ]
     },
     "execution_count": 4,
     "metadata": {},
     "output_type": "execute_result"
    }
   ],
   "source": [
    "df.shape"
   ]
  },
  {
   "cell_type": "code",
   "execution_count": 5,
   "id": "98e27e01",
   "metadata": {},
   "outputs": [
    {
     "data": {
      "text/html": [
       "<div>\n",
       "<style scoped>\n",
       "    .dataframe tbody tr th:only-of-type {\n",
       "        vertical-align: middle;\n",
       "    }\n",
       "\n",
       "    .dataframe tbody tr th {\n",
       "        vertical-align: top;\n",
       "    }\n",
       "\n",
       "    .dataframe thead th {\n",
       "        text-align: right;\n",
       "    }\n",
       "</style>\n",
       "<table border=\"1\" class=\"dataframe\">\n",
       "  <thead>\n",
       "    <tr style=\"text-align: right;\">\n",
       "      <th></th>\n",
       "      <th>Unnamed: 0</th>\n",
       "      <th>customer_email</th>\n",
       "      <th>net_revenue</th>\n",
       "      <th>year</th>\n",
       "    </tr>\n",
       "  </thead>\n",
       "  <tbody>\n",
       "    <tr>\n",
       "      <th>0</th>\n",
       "      <td>0</td>\n",
       "      <td>nhknapwsbx@gmail.com</td>\n",
       "      <td>249.92</td>\n",
       "      <td>2015</td>\n",
       "    </tr>\n",
       "    <tr>\n",
       "      <th>1</th>\n",
       "      <td>1</td>\n",
       "      <td>joiuzbvcpn@gmail.com</td>\n",
       "      <td>87.61</td>\n",
       "      <td>2015</td>\n",
       "    </tr>\n",
       "    <tr>\n",
       "      <th>2</th>\n",
       "      <td>2</td>\n",
       "      <td>ukkjctepxt@gmail.com</td>\n",
       "      <td>168.38</td>\n",
       "      <td>2015</td>\n",
       "    </tr>\n",
       "    <tr>\n",
       "      <th>3</th>\n",
       "      <td>3</td>\n",
       "      <td>gykatilzrt@gmail.com</td>\n",
       "      <td>62.40</td>\n",
       "      <td>2015</td>\n",
       "    </tr>\n",
       "    <tr>\n",
       "      <th>4</th>\n",
       "      <td>4</td>\n",
       "      <td>mmsgsrtxah@gmail.com</td>\n",
       "      <td>43.08</td>\n",
       "      <td>2015</td>\n",
       "    </tr>\n",
       "  </tbody>\n",
       "</table>\n",
       "</div>"
      ],
      "text/plain": [
       "   Unnamed: 0         customer_email  net_revenue  year\n",
       "0           0   nhknapwsbx@gmail.com       249.92  2015\n",
       "1           1   joiuzbvcpn@gmail.com        87.61  2015\n",
       "2           2   ukkjctepxt@gmail.com       168.38  2015\n",
       "3           3   gykatilzrt@gmail.com        62.40  2015\n",
       "4           4   mmsgsrtxah@gmail.com        43.08  2015"
      ]
     },
     "execution_count": 5,
     "metadata": {},
     "output_type": "execute_result"
    }
   ],
   "source": [
    "df.head()"
   ]
  },
  {
   "cell_type": "code",
   "execution_count": 6,
   "id": "6479f277",
   "metadata": {},
   "outputs": [
    {
     "data": {
      "text/plain": [
       "Unnamed: 0          int64\n",
       "customer_email     object\n",
       "net_revenue       float64\n",
       "year                int64\n",
       "dtype: object"
      ]
     },
     "execution_count": 6,
     "metadata": {},
     "output_type": "execute_result"
    }
   ],
   "source": [
    "df.dtypes"
   ]
  },
  {
   "cell_type": "code",
   "execution_count": 7,
   "id": "de453fc9",
   "metadata": {},
   "outputs": [
    {
     "data": {
      "text/plain": [
       "Unnamed: 0        0\n",
       "customer_email    0\n",
       "net_revenue       0\n",
       "year              0\n",
       "dtype: int64"
      ]
     },
     "execution_count": 7,
     "metadata": {},
     "output_type": "execute_result"
    }
   ],
   "source": [
    "df.isna().sum()"
   ]
  },
  {
   "cell_type": "code",
   "execution_count": 8,
   "id": "87d8406a",
   "metadata": {},
   "outputs": [
    {
     "data": {
      "text/html": [
       "<div>\n",
       "<style scoped>\n",
       "    .dataframe tbody tr th:only-of-type {\n",
       "        vertical-align: middle;\n",
       "    }\n",
       "\n",
       "    .dataframe tbody tr th {\n",
       "        vertical-align: top;\n",
       "    }\n",
       "\n",
       "    .dataframe thead th {\n",
       "        text-align: right;\n",
       "    }\n",
       "</style>\n",
       "<table border=\"1\" class=\"dataframe\">\n",
       "  <thead>\n",
       "    <tr style=\"text-align: right;\">\n",
       "      <th></th>\n",
       "      <th>Unnamed: 0</th>\n",
       "      <th>net_revenue</th>\n",
       "      <th>year</th>\n",
       "    </tr>\n",
       "  </thead>\n",
       "  <tbody>\n",
       "    <tr>\n",
       "      <th>count</th>\n",
       "      <td>685927.000000</td>\n",
       "      <td>685927.000000</td>\n",
       "      <td>685927.000000</td>\n",
       "    </tr>\n",
       "    <tr>\n",
       "      <th>mean</th>\n",
       "      <td>342963.000000</td>\n",
       "      <td>125.647755</td>\n",
       "      <td>2016.027252</td>\n",
       "    </tr>\n",
       "    <tr>\n",
       "      <th>std</th>\n",
       "      <td>198010.213384</td>\n",
       "      <td>71.854528</td>\n",
       "      <td>0.837203</td>\n",
       "    </tr>\n",
       "    <tr>\n",
       "      <th>min</th>\n",
       "      <td>0.000000</td>\n",
       "      <td>1.000000</td>\n",
       "      <td>2015.000000</td>\n",
       "    </tr>\n",
       "    <tr>\n",
       "      <th>25%</th>\n",
       "      <td>171481.500000</td>\n",
       "      <td>63.510000</td>\n",
       "      <td>2015.000000</td>\n",
       "    </tr>\n",
       "    <tr>\n",
       "      <th>50%</th>\n",
       "      <td>342963.000000</td>\n",
       "      <td>125.730000</td>\n",
       "      <td>2016.000000</td>\n",
       "    </tr>\n",
       "    <tr>\n",
       "      <th>75%</th>\n",
       "      <td>514444.500000</td>\n",
       "      <td>187.820000</td>\n",
       "      <td>2017.000000</td>\n",
       "    </tr>\n",
       "    <tr>\n",
       "      <th>max</th>\n",
       "      <td>685926.000000</td>\n",
       "      <td>250.000000</td>\n",
       "      <td>2017.000000</td>\n",
       "    </tr>\n",
       "  </tbody>\n",
       "</table>\n",
       "</div>"
      ],
      "text/plain": [
       "          Unnamed: 0    net_revenue           year\n",
       "count  685927.000000  685927.000000  685927.000000\n",
       "mean   342963.000000     125.647755    2016.027252\n",
       "std    198010.213384      71.854528       0.837203\n",
       "min         0.000000       1.000000    2015.000000\n",
       "25%    171481.500000      63.510000    2015.000000\n",
       "50%    342963.000000     125.730000    2016.000000\n",
       "75%    514444.500000     187.820000    2017.000000\n",
       "max    685926.000000     250.000000    2017.000000"
      ]
     },
     "execution_count": 8,
     "metadata": {},
     "output_type": "execute_result"
    }
   ],
   "source": [
    "df.describe()"
   ]
  },
  {
   "cell_type": "markdown",
   "id": "46108c21",
   "metadata": {},
   "source": [
    "### Total Revenue for Current year"
   ]
  },
  {
   "cell_type": "code",
   "execution_count": 9,
   "id": "55b5b008",
   "metadata": {},
   "outputs": [
    {
     "data": {
      "text/html": [
       "<div>\n",
       "<style scoped>\n",
       "    .dataframe tbody tr th:only-of-type {\n",
       "        vertical-align: middle;\n",
       "    }\n",
       "\n",
       "    .dataframe tbody tr th {\n",
       "        vertical-align: top;\n",
       "    }\n",
       "\n",
       "    .dataframe thead th {\n",
       "        text-align: right;\n",
       "    }\n",
       "</style>\n",
       "<table border=\"1\" class=\"dataframe\">\n",
       "  <thead>\n",
       "    <tr style=\"text-align: right;\">\n",
       "      <th></th>\n",
       "      <th>year</th>\n",
       "      <th>net_revenue</th>\n",
       "    </tr>\n",
       "  </thead>\n",
       "  <tbody>\n",
       "    <tr>\n",
       "      <th>0</th>\n",
       "      <td>2015</td>\n",
       "      <td>29036749.19</td>\n",
       "    </tr>\n",
       "    <tr>\n",
       "      <th>1</th>\n",
       "      <td>2016</td>\n",
       "      <td>25730943.59</td>\n",
       "    </tr>\n",
       "    <tr>\n",
       "      <th>2</th>\n",
       "      <td>2017</td>\n",
       "      <td>31417495.03</td>\n",
       "    </tr>\n",
       "  </tbody>\n",
       "</table>\n",
       "</div>"
      ],
      "text/plain": [
       "   year  net_revenue\n",
       "0  2015  29036749.19\n",
       "1  2016  25730943.59\n",
       "2  2017  31417495.03"
      ]
     },
     "execution_count": 9,
     "metadata": {},
     "output_type": "execute_result"
    }
   ],
   "source": [
    "revenue_by_year= df.groupby('year').sum().reset_index()\n",
    "df_rev=revenue_by_year[['year','net_revenue']]\n",
    "df_rev.head()"
   ]
  },
  {
   "cell_type": "code",
   "execution_count": 10,
   "id": "ec3be1b8",
   "metadata": {},
   "outputs": [],
   "source": [
    "df_output = df_rev.rename(columns={'net_revenue': 'Total Revenue for Current Year'})"
   ]
  },
  {
   "cell_type": "code",
   "execution_count": 11,
   "id": "107c9bb9",
   "metadata": {},
   "outputs": [],
   "source": [
    "df_15= df[df['year']==2015]\n",
    "df_16= df[df['year']==2016]\n",
    "df_17= df[df['year']==2017]\n"
   ]
  },
  {
   "cell_type": "markdown",
   "id": "24fbb0bb",
   "metadata": {},
   "source": [
    "### New Customer Revenue"
   ]
  },
  {
   "cell_type": "code",
   "execution_count": 12,
   "id": "a8b7f5d0",
   "metadata": {},
   "outputs": [
    {
     "name": "stdout",
     "output_type": "stream",
     "text": [
      "The total revenue of new customer in year 2016: 18245491.01\n"
     ]
    }
   ],
   "source": [
    "#2016\n",
    "df3 = df_16.merge(df_15, on='customer_email', how='left', indicator=True)\n",
    "df_temp = df3.loc[df3['_merge'] == 'left_only', 'customer_email']\n",
    "d = df_16[df_16['customer_email'].isin(df_temp)]\n",
    "print(f'The total revenue of new customer in year 2016:',d['net_revenue'].sum())"
   ]
  },
  {
   "cell_type": "code",
   "execution_count": 13,
   "id": "de40b359",
   "metadata": {},
   "outputs": [
    {
     "name": "stdout",
     "output_type": "stream",
     "text": [
      "The total revenue of new customer in year 2017: 28776235.039999995\n"
     ]
    }
   ],
   "source": [
    "#2017\n",
    "df10 = df_17.merge(df_16, on='customer_email', how='left', indicator=True)\n",
    "df_temp1 = df10.loc[df10['_merge'] == 'left_only', 'customer_email']\n",
    "d1 = df_17[df_17['customer_email'].isin(df_temp1)]\n",
    "print(f'The total revenue of new customer in year 2017:',d1['net_revenue'].sum())"
   ]
  },
  {
   "cell_type": "code",
   "execution_count": 14,
   "id": "c0702761",
   "metadata": {},
   "outputs": [],
   "source": [
    "new_customers_rev = ['NA',d['net_revenue'].sum(),d1['net_revenue'].sum()]\n",
    "df_output['New Customer Revenue']=new_customers_rev "
   ]
  },
  {
   "cell_type": "markdown",
   "id": "ab0c58f4",
   "metadata": {},
   "source": [
    "### Existing Customer Growth"
   ]
  },
  {
   "cell_type": "code",
   "execution_count": 15,
   "id": "1f3790f3",
   "metadata": {},
   "outputs": [
    {
     "name": "stdout",
     "output_type": "stream",
     "text": [
      "The existing customer growth for 2016: 20335.459999999963\n"
     ]
    }
   ],
   "source": [
    "#2016\n",
    "df_4=pd.merge(df_15, df_16, on='customer_email', how='inner')\n",
    "existing_growth_2016=df_4['net_revenue_y'].sum()-df_4['net_revenue_x'].sum()\n",
    "print('The existing customer growth for 2016:',existing_growth_2016)"
   ]
  },
  {
   "cell_type": "code",
   "execution_count": 16,
   "id": "78aae654",
   "metadata": {},
   "outputs": [
    {
     "name": "stdout",
     "output_type": "stream",
     "text": [
      "The existing customer growth for 2017: 20611.340000000317\n"
     ]
    }
   ],
   "source": [
    "#2017\n",
    "df_5=pd.merge(df_16, df_17, on='customer_email', how='inner')\n",
    "existing_growth_2017=df_5['net_revenue_y'].sum()-df_5['net_revenue_x'].sum()\n",
    "print('The existing customer growth for 2017:',existing_growth_2017)"
   ]
  },
  {
   "cell_type": "code",
   "execution_count": 17,
   "id": "110a4c98",
   "metadata": {},
   "outputs": [],
   "source": [
    "existing_growth_rate = ['NA',existing_growth_2016,existing_growth_2017]\n",
    "df_output['Existingn Growth Rate']=existing_growth_rate"
   ]
  },
  {
   "cell_type": "markdown",
   "id": "bc014a6f",
   "metadata": {},
   "source": [
    "### Existing Customer Revenue Current Year"
   ]
  },
  {
   "cell_type": "code",
   "execution_count": 18,
   "id": "ef3f05d0",
   "metadata": {},
   "outputs": [
    {
     "name": "stdout",
     "output_type": "stream",
     "text": [
      "The existing customer revenue for the year 2016: 7485452.58\n"
     ]
    }
   ],
   "source": [
    "#2016\n",
    "existing_customer_revenue_2016=df_4['net_revenue_y'].sum()\n",
    "print('The existing customer revenue for the year 2016:',existing_customer_revenue_2016)"
   ]
  },
  {
   "cell_type": "code",
   "execution_count": 19,
   "id": "d5e56755",
   "metadata": {},
   "outputs": [
    {
     "name": "stdout",
     "output_type": "stream",
     "text": [
      "The existing customer revenue for the year 2017: 2641259.99\n"
     ]
    }
   ],
   "source": [
    "#2017\n",
    "existing_customer_revenue_2017=df_5['net_revenue_y'].sum()\n",
    "print('The existing customer revenue for the year 2017:',existing_customer_revenue_2017)"
   ]
  },
  {
   "cell_type": "code",
   "execution_count": 20,
   "id": "6e2848c3",
   "metadata": {},
   "outputs": [],
   "source": [
    "existing_customer_revenue = ['NA',existing_customer_revenue_2016,existing_customer_revenue_2017]\n",
    "df_output['Existing Customer Revenue Current Year']=existing_customer_revenue"
   ]
  },
  {
   "cell_type": "markdown",
   "id": "f2ae417f",
   "metadata": {},
   "source": [
    "### Existing Customer Revenue Prior Year"
   ]
  },
  {
   "cell_type": "code",
   "execution_count": 21,
   "id": "be3aa768",
   "metadata": {},
   "outputs": [
    {
     "name": "stdout",
     "output_type": "stream",
     "text": [
      "The existing customer revenue prior to the year 2016: 7465117.12\n"
     ]
    }
   ],
   "source": [
    "#2016\n",
    "existing_customer_revenue_2016_prior=df_4['net_revenue_x'].sum()\n",
    "print('The existing customer revenue prior to the year 2016:',existing_customer_revenue_2016_prior)"
   ]
  },
  {
   "cell_type": "code",
   "execution_count": 22,
   "id": "4151ecf6",
   "metadata": {},
   "outputs": [
    {
     "name": "stdout",
     "output_type": "stream",
     "text": [
      "The existing customer revenue prior to the year 2017: 2620648.65\n"
     ]
    }
   ],
   "source": [
    "#2017\n",
    "existing_customer_revenue_2017_prior=df_5['net_revenue_x'].sum()\n",
    "print('The existing customer revenue prior to the year 2017:',existing_customer_revenue_2017_prior)"
   ]
  },
  {
   "cell_type": "code",
   "execution_count": 23,
   "id": "8ab1918d",
   "metadata": {},
   "outputs": [],
   "source": [
    "existing_customer_revenue_prior = ['NA',existing_customer_revenue_2016_prior,existing_customer_revenue_2017_prior]\n",
    "df_output['Existing Customer Revenue Prior Year']=existing_customer_revenue_prior"
   ]
  },
  {
   "cell_type": "markdown",
   "id": "e7ba9a1b",
   "metadata": {},
   "source": [
    "### Total Customer Current Year"
   ]
  },
  {
   "cell_type": "code",
   "execution_count": 24,
   "id": "ae6b8b3c",
   "metadata": {},
   "outputs": [
    {
     "name": "stdout",
     "output_type": "stream",
     "text": [
      "Total Number of Customer for year 2015 231294\n",
      "Total Number of Customer for year 2016 204646\n",
      "Total Number of Customer for year 2017 249987\n"
     ]
    }
   ],
   "source": [
    "#Total Customer \n",
    "\n",
    "total_customer_15=len(df_15)\n",
    "total_customer_16=len(df_16)\n",
    "total_customer_17=len(df_17)\n",
    "print('Total Number of Customer for year 2015',total_customer_15)\n",
    "print('Total Number of Customer for year 2016',total_customer_16)\n",
    "print('Total Number of Customer for year 2017',total_customer_17)"
   ]
  },
  {
   "cell_type": "code",
   "execution_count": 25,
   "id": "ab9debae",
   "metadata": {},
   "outputs": [],
   "source": [
    "total_customer = [total_customer_15,total_customer_16,total_customer_17]\n",
    "df_output['Total Customer Current Year']=total_customer"
   ]
  },
  {
   "cell_type": "markdown",
   "id": "74f5c37b",
   "metadata": {},
   "source": [
    "### Total Customers Previous Year"
   ]
  },
  {
   "cell_type": "code",
   "execution_count": 26,
   "id": "ad327a98",
   "metadata": {},
   "outputs": [
    {
     "name": "stdout",
     "output_type": "stream",
     "text": [
      "Total Number of Customer for  previous to the year 2016 231294\n",
      "Total Number of Customer for previous to the year 2017 204646\n"
     ]
    }
   ],
   "source": [
    "print('Total Number of Customer for  previous to the year 2016',total_customer_15)\n",
    "print('Total Number of Customer for previous to the year 2017',total_customer_16)"
   ]
  },
  {
   "cell_type": "code",
   "execution_count": 27,
   "id": "421e2e13",
   "metadata": {},
   "outputs": [],
   "source": [
    "total_customer_previous = ['NA',total_customer_15,total_customer_16]\n",
    "df_output['Total Customer Previous Year']=total_customer_previous"
   ]
  },
  {
   "cell_type": "markdown",
   "id": "365c645a",
   "metadata": {},
   "source": [
    "### New Customers"
   ]
  },
  {
   "cell_type": "code",
   "execution_count": 28,
   "id": "4f3ad4ca",
   "metadata": {},
   "outputs": [
    {
     "name": "stdout",
     "output_type": "stream",
     "text": [
      "New Customer in year 2016 145062\n",
      "New Customer in year 2017 229028\n"
     ]
    }
   ],
   "source": [
    "#New Customers\n",
    "new_customer_2016=len(d)\n",
    "new_customer_2017=len(d1)\n",
    "print('New Customer in year 2016',new_customer_2016)\n",
    "print('New Customer in year 2017',new_customer_2017)"
   ]
  },
  {
   "cell_type": "code",
   "execution_count": 29,
   "id": "f8f00ee1",
   "metadata": {},
   "outputs": [],
   "source": [
    "New_Customer = ['NA',new_customer_2016,new_customer_2017]\n",
    "df_output['New Customers']=New_Customer"
   ]
  },
  {
   "cell_type": "markdown",
   "id": "e56040c8",
   "metadata": {},
   "source": [
    "### Lost Customers"
   ]
  },
  {
   "cell_type": "code",
   "execution_count": 30,
   "id": "597b59ad",
   "metadata": {},
   "outputs": [
    {
     "name": "stdout",
     "output_type": "stream",
     "text": [
      "Lost Customer in year 2016 171710\n"
     ]
    }
   ],
   "source": [
    "##2016\n",
    "df3 = df_15.merge(df_16, on='customer_email', how='left', indicator=True)\n",
    "df_temp = df3.loc[df3['_merge'] == 'left_only', 'customer_email']\n",
    "dl = df_15[df_15['customer_email'].isin(df_temp)]\n",
    "Lost_customer_2016=len(dl)\n",
    "print('Lost Customer in year 2016',Lost_customer_2016)"
   ]
  },
  {
   "cell_type": "code",
   "execution_count": 31,
   "id": "cdbcab2d",
   "metadata": {},
   "outputs": [
    {
     "name": "stdout",
     "output_type": "stream",
     "text": [
      "Lost Customer in year 2017 183687\n"
     ]
    }
   ],
   "source": [
    "#2017\n",
    "df10 = df_16.merge(df_17, on='customer_email', how='left', indicator=True)\n",
    "df_temp1 = df10.loc[df10['_merge'] == 'left_only', 'customer_email']\n",
    "d1l = df_16[df_16['customer_email'].isin(df_temp1)]\n",
    "Lost_customer_2017=len(d1l)\n",
    "print('Lost Customer in year 2017',Lost_customer_2017)"
   ]
  },
  {
   "cell_type": "code",
   "execution_count": 32,
   "id": "136fd50e",
   "metadata": {},
   "outputs": [],
   "source": [
    "Lost_Customer = ['NA',Lost_customer_2016,Lost_customer_2017]\n",
    "df_output['Lost Customers']=Lost_Customer"
   ]
  },
  {
   "cell_type": "code",
   "execution_count": 33,
   "id": "bc6cde41",
   "metadata": {},
   "outputs": [],
   "source": [
    "### Revenue Lost from attrition"
   ]
  },
  {
   "cell_type": "code",
   "execution_count": 34,
   "id": "b85da203",
   "metadata": {},
   "outputs": [
    {
     "name": "stdout",
     "output_type": "stream",
     "text": [
      "0.11454936081982266\n"
     ]
    }
   ],
   "source": [
    "#2016\n",
    "#Formula: lost customers revenue - new customers revenue/ customer revenue last year\n",
    "da= (dl['net_revenue'].sum()-d['net_revenue'].sum())/(df_15['net_revenue']).sum()\n",
    "#print(dl['net_revenue'].sum(),d['net_revenue'].sum(),(df_15['net_revenue']).sum())\n",
    "print(da)"
   ]
  },
  {
   "cell_type": "code",
   "execution_count": 35,
   "id": "4264f0cf",
   "metadata": {},
   "outputs": [
    {
     "name": "stdout",
     "output_type": "stream",
     "text": [
      "-0.22019946840200577\n"
     ]
    }
   ],
   "source": [
    "#2017\n",
    "da_17= (d1l['net_revenue'].sum()-d1['net_revenue'].sum())/(df_16['net_revenue']).sum()\n",
    "#print((d1l['net_revenue'].sum(),d1['net_revenue'].sum(),(df_16['net_revenue']).sum()))\n",
    "print(da_17)"
   ]
  },
  {
   "cell_type": "code",
   "execution_count": 36,
   "id": "d0bf44eb",
   "metadata": {},
   "outputs": [],
   "source": [
    "Lost_Customer = ['NA',da,da_17]\n",
    "df_output['Revenue Lost From Attrition']=Lost_Customer"
   ]
  },
  {
   "cell_type": "markdown",
   "id": "2eb2bd60",
   "metadata": {},
   "source": [
    "### Final Output"
   ]
  },
  {
   "cell_type": "code",
   "execution_count": 37,
   "id": "fd2412ee",
   "metadata": {},
   "outputs": [
    {
     "data": {
      "text/html": [
       "<div>\n",
       "<style scoped>\n",
       "    .dataframe tbody tr th:only-of-type {\n",
       "        vertical-align: middle;\n",
       "    }\n",
       "\n",
       "    .dataframe tbody tr th {\n",
       "        vertical-align: top;\n",
       "    }\n",
       "\n",
       "    .dataframe thead th {\n",
       "        text-align: right;\n",
       "    }\n",
       "</style>\n",
       "<table border=\"1\" class=\"dataframe\">\n",
       "  <thead>\n",
       "    <tr style=\"text-align: right;\">\n",
       "      <th></th>\n",
       "      <th>0</th>\n",
       "      <th>1</th>\n",
       "      <th>2</th>\n",
       "    </tr>\n",
       "  </thead>\n",
       "  <tbody>\n",
       "    <tr>\n",
       "      <th>year</th>\n",
       "      <td>2015</td>\n",
       "      <td>2016</td>\n",
       "      <td>2017</td>\n",
       "    </tr>\n",
       "    <tr>\n",
       "      <th>Total Revenue for Current Year</th>\n",
       "      <td>29036749.19</td>\n",
       "      <td>25730943.59</td>\n",
       "      <td>31417495.03</td>\n",
       "    </tr>\n",
       "    <tr>\n",
       "      <th>New Customer Revenue</th>\n",
       "      <td>NA</td>\n",
       "      <td>18245491.01</td>\n",
       "      <td>28776235.04</td>\n",
       "    </tr>\n",
       "    <tr>\n",
       "      <th>Existingn Growth Rate</th>\n",
       "      <td>NA</td>\n",
       "      <td>20335.46</td>\n",
       "      <td>20611.34</td>\n",
       "    </tr>\n",
       "    <tr>\n",
       "      <th>Existing Customer Revenue Current Year</th>\n",
       "      <td>NA</td>\n",
       "      <td>7485452.58</td>\n",
       "      <td>2641259.99</td>\n",
       "    </tr>\n",
       "    <tr>\n",
       "      <th>Existing Customer Revenue Prior Year</th>\n",
       "      <td>NA</td>\n",
       "      <td>7465117.12</td>\n",
       "      <td>2620648.65</td>\n",
       "    </tr>\n",
       "    <tr>\n",
       "      <th>Total Customer Current Year</th>\n",
       "      <td>231294</td>\n",
       "      <td>204646</td>\n",
       "      <td>249987</td>\n",
       "    </tr>\n",
       "    <tr>\n",
       "      <th>Total Customer Previous Year</th>\n",
       "      <td>NA</td>\n",
       "      <td>231294</td>\n",
       "      <td>204646</td>\n",
       "    </tr>\n",
       "    <tr>\n",
       "      <th>New Customers</th>\n",
       "      <td>NA</td>\n",
       "      <td>145062</td>\n",
       "      <td>229028</td>\n",
       "    </tr>\n",
       "    <tr>\n",
       "      <th>Lost Customers</th>\n",
       "      <td>NA</td>\n",
       "      <td>171710</td>\n",
       "      <td>183687</td>\n",
       "    </tr>\n",
       "    <tr>\n",
       "      <th>Revenue Lost From Attrition</th>\n",
       "      <td>NA</td>\n",
       "      <td>0.114549</td>\n",
       "      <td>-0.220199</td>\n",
       "    </tr>\n",
       "  </tbody>\n",
       "</table>\n",
       "</div>"
      ],
      "text/plain": [
       "                                                  0            1            2\n",
       "year                                           2015         2016         2017\n",
       "Total Revenue for Current Year          29036749.19  25730943.59  31417495.03\n",
       "New Customer Revenue                             NA  18245491.01  28776235.04\n",
       "Existingn Growth Rate                            NA     20335.46     20611.34\n",
       "Existing Customer Revenue Current Year           NA   7485452.58   2641259.99\n",
       "Existing Customer Revenue Prior Year             NA   7465117.12   2620648.65\n",
       "Total Customer Current Year                  231294       204646       249987\n",
       "Total Customer Previous Year                     NA       231294       204646\n",
       "New Customers                                    NA       145062       229028\n",
       "Lost Customers                                   NA       171710       183687\n",
       "Revenue Lost From Attrition                      NA     0.114549    -0.220199"
      ]
     },
     "execution_count": 37,
     "metadata": {},
     "output_type": "execute_result"
    }
   ],
   "source": [
    "df_output.transpose()"
   ]
  },
  {
   "cell_type": "markdown",
   "id": "98a94120",
   "metadata": {},
   "source": [
    "### Data Visualizations"
   ]
  },
  {
   "cell_type": "code",
   "execution_count": 38,
   "id": "83b31424",
   "metadata": {},
   "outputs": [
    {
     "data": {
      "image/png": "[encoded data removed]",
      "text/plain": [
       "<Figure size 432x288 with 1 Axes>"
      ]
     },
     "metadata": {
      "needs_background": "light"
     },
     "output_type": "display_data"
    }
   ],
   "source": [
    "sn.violinplot(data= df,x=\"year\", y=\"net_revenue\")\n",
    "plt.show()"
   ]
  },
  {
   "cell_type": "markdown",
   "id": "ca95ce00",
   "metadata": {},
   "source": [
    "From the above graph we can observe that the net revenue for each year almost appears similar. As seen in the graph the range and variance appear to be nearly same for every year.\n",
    "The net revenue has remaind constant each year.\n"
   ]
  },
  {
   "cell_type": "code",
   "execution_count": 39,
   "id": "6c9d7762",
   "metadata": {},
   "outputs": [
    {
     "data": {
      "image/png": "[encoded data removed]",
      "text/plain": [
       "<Figure size 432x288 with 1 Axes>"
      ]
     },
     "metadata": {
      "needs_background": "light"
     },
     "output_type": "display_data"
    }
   ],
   "source": [
    "groupedvalues = df.groupby('year').sum().reset_index()\n",
    "ax = sn.barplot(x='year',y='net_revenue',\n",
    "                 data=groupedvalues,)\n",
    "for index, row in groupedvalues.iterrows():\n",
    "    ax.text(row.name,row.net_revenue, round(row.net_revenue,2), color='black', ha=\"center\")\n",
    "plt.ylabel(' Net Revenue(in millions)')\n",
    "plt.show()"
   ]
  },
  {
   "cell_type": "markdown",
   "id": "2485ec87",
   "metadata": {},
   "source": [
    "From the above graph we can see that the net revenue for year 2017 is the highest. Net revenue drooped in the year 2016. But it recoverd in the year 2017"
   ]
  },
  {
   "cell_type": "code",
   "execution_count": 40,
   "id": "64b22564",
   "metadata": {},
   "outputs": [
    {
     "data": {
      "image/png": "[encoded data removed]",
      "text/plain": [
       "<Figure size 720x504 with 1 Axes>"
      ]
     },
     "metadata": {
      "needs_background": "light"
     },
     "output_type": "display_data"
    }
   ],
   "source": [
    "import matplotlib.patches as mpatches\n",
    "\n",
    "f, ax = plt.subplots(figsize = (10,7))\n",
    "sn.barplot( y='New Customer Revenue',x='year', data= df_output[1:3],color=\"lightgray\")\n",
    "sn.barplot(y='Existing Customer Revenue Current Year',x='year', data= df_output[1:3], color=\"red\")\n",
    "a = mpatches.Patch(color='lightgray', label='New customer revenue')\n",
    "b = mpatches.Patch(color='red',label='Existing revenue')\n",
    "plt.ylabel('Revenue(in millions)')\n",
    "plt.legend(handles=[a,b])\n",
    "plt.show()\n",
    "\n",
    "\n"
   ]
  },
  {
   "cell_type": "markdown",
   "id": "91533878",
   "metadata": {},
   "source": [
    "From the above graph we can see that existing customer revenue has decreased in 2017 as compared to 2016. We can also observe that the total revenue for new customers has increased in 2017 as compared to 2016"
   ]
  },
  {
   "cell_type": "code",
   "execution_count": 41,
   "id": "c97b3eef",
   "metadata": {},
   "outputs": [
    {
     "data": {
      "image/png": "[encoded data removed]",
      "text/plain": [
       "<Figure size 432x288 with 1 Axes>"
      ]
     },
     "metadata": {
      "needs_background": "light"
     },
     "output_type": "display_data"
    }
   ],
   "source": [
    "sn.barplot(x= 'year', y='Total Customer Current Year', data= df_output)\n",
    "plt.xlabel('Year')\n",
    "plt.ylabel('Count')\n",
    "plt.show()\n"
   ]
  },
  {
   "cell_type": "markdown",
   "id": "44317e39",
   "metadata": {},
   "source": [
    "From the above plot we can see that the the company number of customers declined in 2016 compared to 2015 and again ganied back its customer in 2017"
   ]
  },
  {
   "cell_type": "code",
   "execution_count": null,
   "id": "fb4bb3b9",
   "metadata": {},
   "outputs": [],
   "source": []
  }
 ],
 "metadata": {
  "kernelspec": {
   "display_name": "Python 3 (ipykernel)",
   "language": "python",
   "name": "python3"
  },
  "language_info": {
   "codemirror_mode": {
    "name": "ipython",
    "version": 3
   },
   "file_extension": ".py",
   "mimetype": "text/x-python",
   "name": "python",
   "nbconvert_exporter": "python",
   "pygments_lexer": "ipython3",
   "version": "3.9.7"
  }
 },
 "nbformat": 4,
 "nbformat_minor": 5
}
